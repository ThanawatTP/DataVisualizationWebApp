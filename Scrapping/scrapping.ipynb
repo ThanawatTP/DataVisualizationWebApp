{
 "cells": [
  {
   "cell_type": "code",
   "execution_count": 1,
   "metadata": {},
   "outputs": [],
   "source": [
    "import requests\n",
    "import json\n",
    "response_API1 = requests.get('https://covid19.ddc.moph.go.th/api/Vaccinated/weekly-vaccinated-by-provice')\n",
    "response_API2 = requests.get('https://covid19.ddc.moph.go.th/api/Cases/today-cases-by-provinces')\n",
    "response_API3 = requests.get('https://covid19.ddc.moph.go.th/api/Cases/today-cases-line-lists')\n",
    "response_API4 = requests.get('https://covid19.ddc.moph.go.th/api/Cases/timeline-cases-by-provinces')\n",
    "overall_API5 = requests.get('https://covid19.ddc.moph.go.th/api/Cases/timeline-cases-all')\n",
    "#print(response_API.status_code)"
   ]
  },
  {
   "cell_type": "code",
   "execution_count": 115,
   "metadata": {},
   "outputs": [],
   "source": [
    "import sqlite3\n",
    "\n",
    "conn = sqlite3.connect('Covid.db')\n",
    "cursor = conn.cursor()\n",
    "#cursor.execute('PRAGMA table_info(Covid)').fetchall()\n",
    "\n",
    "# cursor.execute('''CREATE TABLE vaccine\n",
    "#                 (year int, weeknum int, province text, vaccine_total int, vaccine_1st_dose int, vaccine_2nd_dose int, vaccine_3rd_dose int, vaccine_total_acm int, vaccine_1st_dose_acm int, vaccine_2nd_dose_acm int, vaccine_3rd_dose_acm int, region text)''')\n",
    "\n",
    "# cursor.execute('''CREATE TABLE covid\n",
    "#                 (year int, weeknum int, province text, new_case int, total_case int, new_case_excludeabroad int, total_case_excludeabroad int, new_death int, total_death int, update_date text, region text)''')\n",
    "\n",
    "# conn.commit()"
   ]
  },
  {
   "cell_type": "code",
   "execution_count": 116,
   "metadata": {},
   "outputs": [],
   "source": [
    "province_north = [\"เชียงราย\",\"เชียงใหม่\",\"น่าน\",\"พะเยา\",\"แพร่\",\"แม่ฮ่องสอน\",\"ลำปาง\",\"ลำพูน\",\"อุตรดิตถ์\"]\n",
    "province_south = [\"กระบี่\",\"ชุมพร\",\"ตรัง\",\"นครศรีธรรมราช\",\"นราธิวาส\",\"ปัตตานี\",\"พังงา\",\"พัทลุง\",\"ภูเก็ต\",\"ยะลา\",\"ระนอง\",\"สงขลา\",\"สตูล\",\"สุราษฎร์ธานี\"]\n",
    "province_central = [\"กรุงเทพมหานคร\",\"กำแพงเพชร\",\"ชัยนาท\",\"นครนายก\",\"นครปฐม\",\"นครสวรรค์\",\"นนทบุรี\",\"ปทุมธานี\",\"พระนครศรีอยุธยา\",\"พิจิตร\",\"พิษณุโลก\",\"เพชรบูรณ์\",\"ลพบุรี\",\"สมุทรปราการ\",\"สมุทรสงคราม\",\"สมุทรสาคร\",\"สระบุรี\",\"สิงห์บุรี\",\"สุโขทัย\",\"สุพรรณบุรี\",\"อ่างทอง\",\"อุทัยธานี\"]\n",
    "province_west = [\"กาญจนบุรี\",\"ตาก\",\"ประจวบคีรีขันธ์\",\"เพชรบุรี\",\"ราชบุรี\"]\n",
    "province_east = [\"จันทบุรี\",\"ฉะเชิงเทรา\",\"ชลบุรี\",\"ตราด\",\"ปราจีนบุรี\",\"ระยอง\",\"สระแก้ว\"]\n",
    "province_northeast = [\"กาฬสินธุ์\",\"ขอนแก่น\",\"ชัยภูมิ\",\"นครพนม\",\"นครราชสีมา\",\"บึงกาฬ\",\"บุรีรัมย์\",\"มหาสารคาม\",\"มุกดาหาร\",\"ยโสธร\",\"ร้อยเอ็ด\",\"เลย\",\"ศรีสะเกษ\",\"สกลนคร\",\"สุรินทร์\",\"หนองคาย\",\"หนองบัวลำภู\",\"อำนาจเจริญ\",\"อุดรธานี\",\"อุบลราชธานี\"]"
   ]
  },
  {
   "cell_type": "code",
   "execution_count": 117,
   "metadata": {},
   "outputs": [],
   "source": [
    "#ดึงข้อมูลจาก api ปี2021 - ปัจจุบัน\n",
    "allcase = response_API4.text\n",
    "\n",
    "allcase = json.loads(allcase)\n",
    "for i in allcase:\n",
    "    if i[\"province\"] == \"ทั้งประเทศ\":\n",
    "        i[\"region\"] = 'ทั้งประเทศ'\n",
    "    elif i[\"province\"] == \"ไม่ระบุ\":\n",
    "        i[\"region\"] = 'ไม่ระบุ'\n",
    "    elif i[\"province\"] in province_north:\n",
    "        i[\"region\"] = 'ภาคเหนือ'\n",
    "    elif i[\"province\"] in province_south:\n",
    "        i[\"region\"] = 'ภาคใต้'\n",
    "    elif i[\"province\"] in province_central:\n",
    "        i[\"region\"] = 'ภาคกลาง'\n",
    "    elif i[\"province\"] in province_west:\n",
    "        i[\"region\"] = 'ภาคตะวันตก'\n",
    "    elif i[\"province\"] in province_east:\n",
    "        i[\"region\"] = 'ภาคตะวันออก'\n",
    "    elif i[\"province\"] in province_northeast:\n",
    "        i[\"region\"] = 'ภาคตะวันออกเฉียงเหนือ'\n",
    "    data = (i['update_date'], i['province'], i['region'], i['year'], i['weeknum'], i['new_case'], i['total_case'], i['new_case_excludeabroad'], i['total_case_excludeabroad'], i['new_death'], i['total_death'])\n",
    "      \n",
    "    # conn.execute(\"INSERT INTO covid (update_date ,province ,region ,year ,weeknum, new_case ,total_case ,new_case_excludeabroad ,total_case_excludeabroad ,new_death ,total_death ) VALUES (?, ?, ?, ?, ?, ?, ?, ?, ?, ?, ?)\",data)\n",
    "    # conn.commit()"
   ]
  },
  {
   "cell_type": "code",
   "execution_count": 118,
   "metadata": {},
   "outputs": [],
   "source": [
    "import pandas as pd\n",
    "from tabulate import tabulate\n",
    "\n",
    "vaccinated_by_provice = response_API1.text\n",
    "today_cases_by_province = response_API2.text\n",
    "died_cases = response_API3.text\n",
    "\n",
    "data1 = json.loads(vaccinated_by_provice)\n",
    "data2 = json.loads(today_cases_by_province)\n",
    "\n",
    "\n",
    "for i in data1:\n",
    "    if i[\"province\"] == \"ทั้งประเทศ\":\n",
    "        i[\"region\"] = 'ทั้งประเทศ'\n",
    "    elif i[\"province\"] == \"ไม่ระบุ\":\n",
    "        i[\"region\"] = 'ไม่ระบุ'\n",
    "    for j in province_north:\n",
    "        if i[\"province\"] == j:\n",
    "            i[\"region\"] = 'ภาคเหนือ'\n",
    "    for j in province_south:\n",
    "        if i[\"province\"] == j:\n",
    "            i[\"region\"] = 'ภาคใต้'\n",
    "    for j in province_central:\n",
    "        if i[\"province\"] == j:\n",
    "            i[\"region\"] = 'ภาคกลาง'\n",
    "    for j in province_west:\n",
    "        if i[\"province\"] == j:\n",
    "            i[\"region\"] = 'ภาคตะวันตก'\n",
    "    for j in province_east:\n",
    "        if i[\"province\"] == j:\n",
    "            i[\"region\"] = 'ภาคตะวันออก'\n",
    "    for j in province_northeast:\n",
    "        if i[\"province\"] == j:\n",
    "            i[\"region\"] = 'ภาคตะวันออกเฉียงเหนือ'\n",
    "    vaccine_data = tuple(i.values())\n",
    "    # conn.execute(\"INSERT INTO vaccine VALUES (?, ?, ?, ?, ?, ?, ?, ?, ?, ?, ?, ?)\", vaccine_data)\n",
    "  \n"
   ]
  },
  {
   "cell_type": "code",
   "execution_count": 119,
   "metadata": {},
   "outputs": [],
   "source": [
    "for i in data2:\n",
    "    if i[\"province\"] == \"ทั้งประเทศ\":\n",
    "        i[\"region\"] = 'ทั้งประเทศ'\n",
    "    elif i[\"province\"] == \"ไม่ระบุ\":\n",
    "        i[\"region\"] = 'ไม่ระบุ'\n",
    "    for j in province_north:\n",
    "        if i[\"province\"] == j:\n",
    "            i[\"region\"] = 'ภาคเหนือ'\n",
    "    for j in province_south:\n",
    "        if i[\"province\"] == j:\n",
    "            i[\"region\"] = 'ภาคใต้'\n",
    "    for j in province_central:\n",
    "        if i[\"province\"] == j:\n",
    "            i[\"region\"] = 'ภาคกลาง'\n",
    "    for j in province_west:\n",
    "        if i[\"province\"] == j:\n",
    "            i[\"region\"] = 'ภาคตะวันตก'\n",
    "    for j in province_east:\n",
    "        if i[\"province\"] == j:\n",
    "            i[\"region\"] = 'ภาคตะวันออก'\n",
    "    for j in province_northeast:\n",
    "        if i[\"province\"] == j:\n",
    "            i[\"region\"] = 'ภาคตะวันออกเฉียงเหนือ'\n",
    "    covid_data = tuple(i.values())\n",
    "    # cursor.execute(\"INSERT INTO covid VALUES (?, ?, ?, ?, ?, ?, ?, ?, ?, ?, ?)\", covid_data)"
   ]
  },
  {
   "cell_type": "code",
   "execution_count": 120,
   "metadata": {},
   "outputs": [],
   "source": [
    "# cursor.execute('''CREATE TABLE alldata AS SELECT * FROM covid LEFT OUTER JOIN vaccine ON covid.province = vaccine.province;''')\n",
    "# cursor.execute('''alter table alldata drop 'year:1' ''')\n",
    "# cursor.execute('''alter table alldata drop 'weeknum:1' ''')\n",
    "# cursor.execute('''alter table alldata drop 'province:1' ''')\n",
    "# cursor.execute('''alter table alldata drop 'region:1' ''')"
   ]
  },
  {
   "cell_type": "code",
   "execution_count": 121,
   "metadata": {},
   "outputs": [],
   "source": [
    "##เพิ่มข้อมูลเข้า table alldata\n",
    "import sqlite3\n",
    "\n",
    "# Connect to the SQLite database\n",
    "conn = sqlite3.connect('covid.db')\n",
    "\n",
    "# Get a cursor object\n",
    "cursor = conn.cursor()\n",
    "\n",
    "# Execute the SELECT statement\n",
    "cursor.execute(\"SELECT * FROM covid WHERE year != 2023\")\n",
    "\n",
    "# Fetch all the rows returned by the query\n",
    "rows = cursor.fetchall()\n",
    "\n",
    "# Insert the selected rows into the \"alldata\" table\n",
    "for i in rows:\n",
    "    data = (i +(0,0,0,0,0,0,0,0))\n",
    "    # cursor.execute(\"INSERT INTO alldata VALUES (?, ?, ?, ?, ?, ?, ?, ?, ?, ?, ?,?,?,?,?,?,?,?,?)\", data)\n",
    "\n",
    "# Commit the changes\n",
    "# conn.commit()\n",
    "\n",
    "# Close the cursor and connection objects\n",
    "# cursor.close()\n",
    "# conn.close()\n"
   ]
  },
  {
   "cell_type": "code",
   "execution_count": 122,
   "metadata": {},
   "outputs": [
    {
     "ename": "SyntaxError",
     "evalue": "invalid syntax (2646373387.py, line 1)",
     "output_type": "error",
     "traceback": [
      "\u001b[1;36m  Cell \u001b[1;32mIn[122], line 1\u001b[1;36m\u001b[0m\n\u001b[1;33m    year 2023\u001b[0m\n\u001b[1;37m         ^\u001b[0m\n\u001b[1;31mSyntaxError\u001b[0m\u001b[1;31m:\u001b[0m invalid syntax\n"
     ]
    }
   ],
   "source": [
    "year 2023\n",
    "weeknum 9\n",
    "province ทั้งประเทศ\n",
    "vaccine_total 727\n",
    "vaccine_1st_dose 73\n",
    "vaccine_2nd_dose 153\n",
    "vaccine_3rd_dose 501\n",
    "vaccine_total_acm 144872431\n",
    "vaccine_1st_dose_acm 57226251\n",
    "vaccine_2nd_dose_acm 53719574\n",
    "vaccine_3rd_dose_acm 33926606"
   ]
  },
  {
   "cell_type": "code",
   "execution_count": null,
   "metadata": {},
   "outputs": [
    {
     "name": "stdout",
     "output_type": "stream",
     "text": [
      "{'message': 'No API key found in request'}\n"
     ]
    }
   ],
   "source": [
    "import urllib\n",
    "url = 'https://opend.data.go.th/get-ckan/datastore_search?resource_id=0c2aa4d6-90ef-405f-acf2-20507ced4fab&limit=5&q=title:jones'  \n",
    "fileobj = json.loads(requests.get(url).text)\n",
    "print (fileobj)"
   ]
  },
  {
   "cell_type": "code",
   "execution_count": null,
   "metadata": {},
   "outputs": [],
   "source": [
    "import json\n",
    "import sqlite3\n",
    "\n",
    "# Open the JSON file and load its contents\n",
    "with open('Thailandprovinces.json', 'r') as f:\n",
    "    province = json.load(f)\n",
    "# Extract the new value for the \"province\" column\n",
    "# Thailandprovinces\n",
    "\n",
    "# # Connect to the SQLite database\n",
    "conn = sqlite3.connect('covid.db')\n",
    "\n",
    "# # Get a cursor object\n",
    "cursor = conn.cursor()\n",
    "\n",
    "# # Execute the UPDATE statement\n",
    "# for i in data.keys():\n",
    "#     new_province = data.get(i)\n",
    "#     #print(i,new_province)\n",
    "#     conn.execute(\"UPDATE alldata SET province = ? WHERE province = ?\", (new_province, i))\n",
    "#     conn.commit()\n",
    "    \n",
    "# conn.execute(\"UPDATE alldata set province = ? WHERE province = ?\", ('None', 'ไม่ระบุ'))\n",
    "# conn.commit()\n",
    "# conn.execute(\"UPDATE alldata set province = ? WHERE province = ?\", ('All', 'ทั้งประเทศ'))\n",
    "# conn.commit()\n",
    "# # Commit the changes\n",
    "\n"
   ]
  },
  {
   "cell_type": "code",
   "execution_count": null,
   "metadata": {},
   "outputs": [],
   "source": [
    "region = {\"ทั้งประเทศ\":\"All\",\"ไม่ระบุ\":'None','ภาคเหนือ':'North','ภาคใต้':'South','ภาคกลาง':'Central','ภาคตะวันตก':'West','ภาคตะวันออก':'East','ภาคตะวันออกเฉียงเหนือ':'NorthEast'}\n",
    "for i in region.keys():\n",
    "    new_region = region.get(i)\n",
    "    # conn.execute(\"UPDATE alldata_province_eng SET region = ? WHERE region = ?\", (i, new_region))\n",
    "    # conn.commit()"
   ]
  },
  {
   "cell_type": "code",
   "execution_count": 131,
   "metadata": {},
   "outputs": [],
   "source": [
    "for i in province.keys():\n",
    "    new_province = province.get(i)\n",
    "#     conn.execute(\"UPDATE alldata_province_th SET province = ? WHERE province = ?\", (i, new_province))\n",
    "#     conn.commit()\n",
    "\n",
    "# conn.execute(\"UPDATE alldata_province_th SET province = ? WHERE province = ?\", (\"ทั้งประเทศ\", \"All\"))\n",
    "# conn.commit()\n",
    "# conn.execute(\"UPDATE alldata_province_th SET province = ? WHERE province = ?\", (\"ไม่ระบุ\", \"None\"))\n",
    "# conn.commit()\n",
    "\n"
   ]
  },
  {
   "cell_type": "code",
   "execution_count": 7,
   "metadata": {},
   "outputs": [
    {
     "name": "stdout",
     "output_type": "stream",
     "text": [
      "[{'year': 2021, 'weeknum': 52, 'new_case': 3011, 'total_case': 3011, 'new_case_excludeabroad': 2869, 'total_case_excludeabroad': 2869, 'new_recovered': 3315, 'total_recovered': 3315, 'new_death': 10, 'total_death': 10, 'case_foreign': 142, 'case_prison': 57, 'case_walkin': 2716, 'case_new_prev': 3111, 'case_new_diff': -100, 'death_new_prev': 26, 'death_new_diff': -16, 'update_date': '2023-03-17 19:32:23'}, {'year': 2022, 'weeknum': 1, 'new_case': 34593, 'total_case': 37604, 'new_case_excludeabroad': 33067, 'total_case_excludeabroad': 35936, 'new_recovered': 19453, 'total_recovered': 22768, 'new_death': 105, 'total_death': 115, 'case_foreign': 1526, 'case_prison': 319, 'case_walkin': 31802, 'case_new_prev': 29341, 'case_new_diff': 5252, 'death_new_prev': 101, 'death_new_diff': 4, 'update_date': '2023-03-17 19:32:23'}, {'year': 2022, 'weeknum': 2, 'new_case': 55369, 'total_case': 92973, 'new_case_excludeabroad': 53168, 'total_case_excludeabroad': 89104, 'new_recovered': 25862, 'total_recovered': 48630, 'new_death': 103, 'total_death': 218, 'case_foreign': 2201, 'case_prison': 371, 'case_walkin': 52134, 'case_new_prev': 55839, 'case_new_diff': -470, 'death_new_prev': 99, 'death_new_diff': 4, 'update_date': '2023-03-17 19:32:23'}, {'year': 2022, 'weeknum': 3, 'new_case': 53406, 'total_case': 146379, 'new_case_excludeabroad': 51992, 'total_case_excludeabroad': 141096, 'new_recovered': 47440, 'total_recovered': 96070, 'new_death': 103, 'total_death': 321, 'case_foreign': 1414, 'case_prison': 271, 'case_walkin': 51306, 'case_new_prev': 53087, 'case_new_diff': 319, 'death_new_prev': 102, 'death_new_diff': 1, 'update_date': '2023-03-17 19:32:23'}, {'year': 2022, 'weeknum': 4, 'new_case': 54276, 'total_case': 200655, 'new_case_excludeabroad': 52935, 'total_case_excludeabroad': 194031, 'new_recovered': 53442, 'total_recovered': 149512, 'new_death': 126, 'total_death': 447, 'case_foreign': 1341, 'case_prison': 408, 'case_walkin': 52264, 'case_new_prev': 53770, 'case_new_diff': 506, 'death_new_prev': 126, 'death_new_diff': 0, 'update_date': '2023-03-17 19:32:23'}, {'year': 2022, 'weeknum': 5, 'new_case': 62032, 'total_case': 262687, 'new_case_excludeabroad': 60611, 'total_case_excludeabroad': 254642, 'new_recovered': 57382, 'total_recovered': 206894, 'new_death': 126, 'total_death': 573, 'case_foreign': 1421, 'case_prison': 312, 'case_walkin': 60021, 'case_new_prev': 60160, 'case_new_diff': 1872, 'death_new_prev': 124, 'death_new_diff': 2, 'update_date': '2023-03-17 19:32:23'}, {'year': 2022, 'weeknum': 6, 'new_case': 91323, 'total_case': 354010, 'new_case_excludeabroad': 90060, 'total_case_excludeabroad': 344702, 'new_recovered': 61152, 'total_recovered': 268046, 'new_death': 141, 'total_death': 714, 'case_foreign': 1263, 'case_prison': 411, 'case_walkin': 88971, 'case_new_prev': 85483, 'case_new_diff': 5840, 'death_new_prev': 137, 'death_new_diff': 4, 'update_date': '2023-03-17 19:32:23'}, {'year': 2022, 'weeknum': 7, 'new_case': 115917, 'total_case': 469927, 'new_case_excludeabroad': 114556, 'total_case_excludeabroad': 459258, 'new_recovered': 76729, 'total_recovered': 344775, 'new_death': 182, 'total_death': 896, 'case_foreign': 1361, 'case_prison': 816, 'case_walkin': 112840, 'case_new_prev': 113362, 'case_new_diff': 2555, 'death_new_prev': 178, 'death_new_diff': 4, 'update_date': '2023-03-17 19:32:23'}, {'year': 2022, 'weeknum': 8, 'new_case': 151535, 'total_case': 621462, 'new_case_excludeabroad': 150334, 'total_case_excludeabroad': 609592, 'new_recovered': 107735, 'total_recovered': 452510, 'new_death': 255, 'total_death': 1151, 'case_foreign': 1201, 'case_prison': 812, 'case_walkin': 148519, 'case_new_prev': 144805, 'case_new_diff': 6730, 'death_new_prev': 244, 'death_new_diff': 11, 'update_date': '2023-03-17 19:32:23'}, {'year': 2022, 'weeknum': 9, 'new_case': 169638, 'total_case': 791100, 'new_case_excludeabroad': 168578, 'total_case_excludeabroad': 778170, 'new_recovered': 128487, 'total_recovered': 580997, 'new_death': 327, 'total_death': 1478, 'case_foreign': 1060, 'case_prison': 823, 'case_walkin': 166004, 'case_new_prev': 162714, 'case_new_diff': 6924, 'death_new_prev': 315, 'death_new_diff': 12, 'update_date': '2023-03-17 19:32:23'}, {'year': 2022, 'weeknum': 10, 'new_case': 156427, 'total_case': 947527, 'new_case_excludeabroad': 155854, 'total_case_excludeabroad': 934024, 'new_recovered': 161956, 'total_recovered': 742953, 'new_death': 467, 'total_death': 1945, 'case_foreign': 573, 'case_prison': 707, 'case_walkin': 153494, 'case_new_prev': 164374, 'case_new_diff': -7947, 'death_new_prev': 451, 'death_new_diff': 16, 'update_date': '2023-03-17 19:32:23'}, {'year': 2022, 'weeknum': 12, 'new_case': 174291, 'total_case': 1289550, 'new_case_excludeabroad': 173998, 'total_case_excludeabroad': 1275446, 'new_recovered': 160992, 'total_recovered': 1059790, 'new_death': 553, 'total_death': 3017, 'case_foreign': 293, 'case_prison': 537, 'case_walkin': 172375, 'case_new_prev': 173861, 'case_new_diff': 430, 'death_new_prev': 573, 'death_new_diff': -20, 'update_date': '2023-03-17 19:32:23'}, {'year': 2022, 'weeknum': 13, 'new_case': 181491, 'total_case': 1471041, 'new_case_excludeabroad': 181131, 'total_case_excludeabroad': 1456577, 'new_recovered': 175358, 'total_recovered': 1235148, 'new_death': 603, 'total_death': 3620, 'case_foreign': 360, 'case_prison': 410, 'case_walkin': 179161, 'case_new_prev': 179696, 'case_new_diff': 1795, 'death_new_prev': 574, 'death_new_diff': 29, 'update_date': '2023-03-17 19:32:23'}, {'year': 2022, 'weeknum': 14, 'new_case': 61020, 'total_case': 1532061, 'new_case_excludeabroad': 60914, 'total_case_excludeabroad': 1517491, 'new_recovered': 78185, 'total_recovered': 1313333, 'new_death': 285, 'total_death': 3905, 'case_foreign': 106, 'case_prison': 77, 'case_walkin': 60344, 'case_new_prev': 79761, 'case_new_diff': -18741, 'death_new_prev': 290, 'death_new_diff': -5, 'update_date': '2023-03-17 19:32:23'}, {'year': 2022, 'weeknum': 15, 'new_case': 106312, 'total_case': 1638373, 'new_case_excludeabroad': 105890, 'total_case_excludeabroad': 1623381, 'new_recovered': 129869, 'total_recovered': 1595484, 'new_death': 566, 'total_death': 5056, 'case_foreign': 422, 'case_prison': 271, 'case_walkin': 104947, 'case_new_prev': 87420, 'case_new_diff': 18892, 'death_new_prev': 546, 'death_new_diff': 20, 'update_date': '2023-03-17 19:32:23'}, {'year': 2022, 'weeknum': 16, 'new_case': 135906, 'total_case': 1774279, 'new_case_excludeabroad': 135315, 'total_case_excludeabroad': 1758696, 'new_recovered': 168121, 'total_recovered': 1763605, 'new_death': 895, 'total_death': 5951, 'case_foreign': 591, 'case_prison': 367, 'case_walkin': 134602, 'case_new_prev': 134746, 'case_new_diff': 1160, 'death_new_prev': 891, 'death_new_diff': 4, 'update_date': '2023-03-17 19:32:23'}, {'year': 2022, 'weeknum': 17, 'new_case': 102859, 'total_case': 1877138, 'new_case_excludeabroad': 102355, 'total_case_excludeabroad': 1861051, 'new_recovered': 138757, 'total_recovered': 1902362, 'new_death': 877, 'total_death': 6828, 'case_foreign': 504, 'case_prison': 196, 'case_walkin': 101825, 'case_new_prev': 110023, 'case_new_diff': -7164, 'death_new_prev': 880, 'death_new_diff': -3, 'update_date': '2023-03-17 19:32:23'}, {'year': 2022, 'weeknum': 18, 'new_case': 51744, 'total_case': 1928882, 'new_case_excludeabroad': 51534, 'total_case_excludeabroad': 1912585, 'new_recovered': 79418, 'total_recovered': 2001925, 'new_death': 311, 'total_death': 7216, 'case_foreign': 210, 'case_prison': 84, 'case_walkin': 51070, 'case_new_prev': 45511, 'case_new_diff': 6233, 'death_new_prev': 376, 'death_new_diff': -65, 'update_date': '2023-03-17 19:32:23'}, {'year': 2022, 'weeknum': 19, 'new_case': 36414, 'total_case': 1965296, 'new_case_excludeabroad': 36400, 'total_case_excludeabroad': 1948985, 'new_recovered': 47760, 'total_recovered': 2096504, 'new_death': 278, 'total_death': 7723, 'case_foreign': 14, 'case_prison': 150, 'case_walkin': 36127, 'case_new_prev': 29678, 'case_new_diff': 6736, 'death_new_prev': 279, 'death_new_diff': -1, 'update_date': '2023-03-17 19:32:23'}, {'year': 2022, 'weeknum': 20, 'new_case': 39003, 'total_case': 2004299, 'new_case_excludeabroad': 38990, 'total_case_excludeabroad': 1987975, 'new_recovered': 53567, 'total_recovered': 2150071, 'new_death': 294, 'total_death': 8017, 'case_foreign': 13, 'case_prison': 84, 'case_walkin': 38810, 'case_new_prev': 40362, 'case_new_diff': -1359, 'death_new_prev': 311, 'death_new_diff': -17, 'update_date': '2023-03-17 19:32:23'}, {'year': 2022, 'weeknum': 21, 'new_case': 32244, 'total_case': 2036543, 'new_case_excludeabroad': 32232, 'total_case_excludeabroad': 2020207, 'new_recovered': 43752, 'total_recovered': 2193823, 'new_death': 233, 'total_death': 8250, 'case_foreign': 12, 'case_prison': 45, 'case_walkin': 32112, 'case_new_prev': 33133, 'case_new_diff': -889, 'death_new_prev': 232, 'death_new_diff': 1, 'update_date': '2023-03-17 19:32:23'}, {'year': 2022, 'weeknum': 22, 'new_case': 48810, 'total_case': 2085353, 'new_case_excludeabroad': 48715, 'total_case_excludeabroad': 2068922, 'new_recovered': 37041, 'total_recovered': 2230864, 'new_death': 195, 'total_death': 8445, 'case_foreign': 95, 'case_prison': 110, 'case_walkin': 48305, 'case_new_prev': 26045, 'case_new_diff': 22765, 'death_new_prev': 203, 'death_new_diff': -8, 'update_date': '2023-03-17 19:32:23'}, {'year': 2022, 'weeknum': 23, 'new_case': 26537, 'total_case': 2111890, 'new_case_excludeabroad': 26522, 'total_case_excludeabroad': 2095444, 'new_recovered': 28605, 'total_recovered': 2259469, 'new_death': 171, 'total_death': 8616, 'case_foreign': 15, 'case_prison': 28, 'case_walkin': 26482, 'case_new_prev': 51289, 'case_new_diff': -24752, 'death_new_prev': 173, 'death_new_diff': -2, 'update_date': '2023-03-17 19:32:23'}, {'year': 2022, 'weeknum': 24, 'new_case': 14763, 'total_case': 2126653, 'new_case_excludeabroad': 14741, 'total_case_excludeabroad': 2110185, 'new_recovered': 17429, 'total_recovered': 2276898, 'new_death': 131, 'total_death': 8747, 'case_foreign': 22, 'case_prison': 35, 'case_walkin': 14706, 'case_new_prev': 14992, 'case_new_diff': -229, 'death_new_prev': 136, 'death_new_diff': -5, 'update_date': '2023-03-17 19:32:23'}, {'year': 2022, 'weeknum': 25, 'new_case': 14625, 'total_case': 2141278, 'new_case_excludeabroad': 14603, 'total_case_excludeabroad': 2124788, 'new_recovered': 13024, 'total_recovered': 2289922, 'new_death': 130, 'total_death': 8877, 'case_foreign': 22, 'case_prison': 9, 'case_walkin': 14594, 'case_new_prev': 14661, 'case_new_diff': -36, 'death_new_prev': 137, 'death_new_diff': -7, 'update_date': '2023-03-17 19:32:23'}, {'year': 2022, 'weeknum': 26, 'new_case': 16000, 'total_case': 2157278, 'new_case_excludeabroad': 15984, 'total_case_excludeabroad': 2140772, 'new_recovered': 13957, 'total_recovered': 2303879, 'new_death': 106, 'total_death': 8983, 'case_foreign': 16, 'case_prison': 0, 'case_walkin': 15984, 'case_new_prev': 15728, 'case_new_diff': 272, 'death_new_prev': 105, 'death_new_diff': 1, 'update_date': '2023-03-17 19:32:23'}, {'year': 2022, 'weeknum': 27, 'new_case': 49793, 'total_case': 2207071, 'new_case_excludeabroad': 49692, 'total_case_excludeabroad': 2190464, 'new_recovered': 15119, 'total_recovered': 2318998, 'new_death': 132, 'total_death': 9115, 'case_foreign': 101, 'case_prison': 145, 'case_walkin': 49272, 'case_new_prev': 50217, 'case_new_diff': -424, 'death_new_prev': 134, 'death_new_diff': -2, 'update_date': '2023-03-17 19:32:23'}, {'year': 2022, 'weeknum': 28, 'new_case': 13962, 'total_case': 2221033, 'new_case_excludeabroad': 13958, 'total_case_excludeabroad': 2204422, 'new_recovered': 14664, 'total_recovered': 2333662, 'new_death': 165, 'total_death': 9280, 'case_foreign': 4, 'case_prison': 21, 'case_walkin': 13937, 'case_new_prev': 14021, 'case_new_diff': -59, 'death_new_prev': 160, 'death_new_diff': 5, 'update_date': '2023-03-17 19:32:23'}, {'year': 2022, 'weeknum': 29, 'new_case': 16462, 'total_case': 2237495, 'new_case_excludeabroad': 16458, 'total_case_excludeabroad': 2220880, 'new_recovered': 15480, 'total_recovered': 2349142, 'new_death': 149, 'total_death': 9429, 'case_foreign': 4, 'case_prison': 22, 'case_walkin': 16436, 'case_new_prev': 15909, 'case_new_diff': 553, 'death_new_prev': 140, 'death_new_diff': 9, 'update_date': '2023-03-17 19:32:23'}, {'year': 2022, 'weeknum': 30, 'new_case': 15049, 'total_case': 2252544, 'new_case_excludeabroad': 15047, 'total_case_excludeabroad': 2235927, 'new_recovered': 15194, 'total_recovered': 2364336, 'new_death': 232, 'total_death': 9661, 'case_foreign': 2, 'case_prison': 49, 'case_walkin': 14998, 'case_new_prev': 15665, 'case_new_diff': -616, 'death_new_prev': 229, 'death_new_diff': 3, 'update_date': '2023-03-17 19:32:23'}, {'year': 2022, 'weeknum': 31, 'new_case': 48068, 'total_case': 2300612, 'new_case_excludeabroad': 47961, 'total_case_excludeabroad': 2283888, 'new_recovered': 17718, 'total_recovered': 2382054, 'new_death': 202, 'total_death': 9863, 'case_foreign': 107, 'case_prison': 100, 'case_walkin': 47597, 'case_new_prev': 47649, 'case_new_diff': 419, 'death_new_prev': 199, 'death_new_diff': 3, 'update_date': '2023-03-17 19:32:23'}, {'year': 2022, 'weeknum': 32, 'new_case': 15293, 'total_case': 2315905, 'new_case_excludeabroad': 15290, 'total_case_excludeabroad': 2299178, 'new_recovered': 14515, 'total_recovered': 2396569, 'new_death': 237, 'total_death': 10100, 'case_foreign': 3, 'case_prison': 54, 'case_walkin': 15236, 'case_new_prev': 15534, 'case_new_diff': -241, 'death_new_prev': 237, 'death_new_diff': 0, 'update_date': '2023-03-17 19:32:23'}, {'year': 2022, 'weeknum': 33, 'new_case': 13560, 'total_case': 2329465, 'new_case_excludeabroad': 13558, 'total_case_excludeabroad': 2312736, 'new_recovered': 15214, 'total_recovered': 2411783, 'new_death': 202, 'total_death': 10302, 'case_foreign': 2, 'case_prison': 58, 'case_walkin': 13500, 'case_new_prev': 13798, 'case_new_diff': -238, 'death_new_prev': 208, 'death_new_diff': -6, 'update_date': '2023-03-17 19:32:23'}, {'year': 2022, 'weeknum': 34, 'new_case': 12431, 'total_case': 2341896, 'new_case_excludeabroad': 12429, 'total_case_excludeabroad': 2325165, 'new_recovered': 14054, 'total_recovered': 2425837, 'new_death': 195, 'total_death': 10497, 'case_foreign': 2, 'case_prison': 62, 'case_walkin': 12367, 'case_new_prev': 12702, 'case_new_diff': -271, 'death_new_prev': 195, 'death_new_diff': 0, 'update_date': '2023-03-17 19:32:23'}, {'year': 2022, 'weeknum': 35, 'new_case': 12268, 'total_case': 2354164, 'new_case_excludeabroad': 12265, 'total_case_excludeabroad': 2337430, 'new_recovered': 13482, 'total_recovered': 2439319, 'new_death': 180, 'total_death': 10677, 'case_foreign': 3, 'case_prison': 10, 'case_walkin': 12255, 'case_new_prev': 11957, 'case_new_diff': 311, 'death_new_prev': 186, 'death_new_diff': -6, 'update_date': '2023-03-17 19:32:23'}, {'year': 2022, 'weeknum': 36, 'new_case': 41328, 'total_case': 2395492, 'new_case_excludeabroad': 41246, 'total_case_excludeabroad': 2378676, 'new_recovered': 12327, 'total_recovered': 2451646, 'new_death': 145, 'total_death': 10822, 'case_foreign': 82, 'case_prison': 52, 'case_walkin': 40986, 'case_new_prev': 42164, 'case_new_diff': -836, 'death_new_prev': 151, 'death_new_diff': -6, 'update_date': '2023-03-17 19:32:23'}, {'year': 2022, 'weeknum': 37, 'new_case': 6457, 'total_case': 2401949, 'new_case_excludeabroad': 6456, 'total_case_excludeabroad': 2385132, 'new_recovered': 10225, 'total_recovered': 2461871, 'new_death': 97, 'total_death': 10919, 'case_foreign': 1, 'case_prison': 4, 'case_walkin': 6452, 'case_new_prev': 6799, 'case_new_diff': -342, 'death_new_prev': 100, 'death_new_diff': -3, 'update_date': '2023-03-17 19:32:23'}, {'year': 2022, 'weeknum': 38, 'new_case': 4787, 'total_case': 2406736, 'new_case_excludeabroad': 4787, 'total_case_excludeabroad': 2389919, 'new_recovered': 6543, 'total_recovered': 2468414, 'new_death': 89, 'total_death': 11008, 'case_foreign': 0, 'case_prison': 1, 'case_walkin': 4786, 'case_new_prev': 4944, 'case_new_diff': -157, 'death_new_prev': 89, 'death_new_diff': 0, 'update_date': '2023-03-17 19:32:23'}, {'year': 2022, 'weeknum': 39, 'new_case': 4435, 'total_case': 2411171, 'new_case_excludeabroad': 4435, 'total_case_excludeabroad': 2394354, 'new_recovered': 5986, 'total_recovered': 2474400, 'new_death': 65, 'total_death': 11073, 'case_foreign': 0, 'case_prison': 0, 'case_walkin': 4435, 'case_new_prev': 4219, 'case_new_diff': 216, 'death_new_prev': 72, 'death_new_diff': -7, 'update_date': '2023-03-17 19:32:23'}, {'year': 2022, 'weeknum': 40, 'new_case': 28054, 'total_case': 2439225, 'new_case_excludeabroad': 27987, 'total_case_excludeabroad': 2422341, 'new_recovered': 4381, 'total_recovered': 2478781, 'new_death': 58, 'total_death': 11131, 'case_foreign': 67, 'case_prison': 80, 'case_walkin': 27661, 'case_new_prev': 28467, 'case_new_diff': -413, 'death_new_prev': 57, 'death_new_diff': 1, 'update_date': '2023-03-17 19:32:23'}, {'year': 2022, 'weeknum': 41, 'new_case': 2234, 'total_case': 2441459, 'new_case_excludeabroad': 2234, 'total_case_excludeabroad': 2424575, 'new_recovered': 0, 'total_recovered': 2478781, 'new_death': 53, 'total_death': 11184, 'case_foreign': 0, 'case_prison': 1, 'case_walkin': 2233, 'case_new_prev': 2474, 'case_new_diff': -240, 'death_new_prev': 61, 'death_new_diff': -8, 'update_date': '2023-03-17 19:32:23'}, {'year': 2022, 'weeknum': 42, 'new_case': 2616, 'total_case': 2444075, 'new_case_excludeabroad': 2616, 'total_case_excludeabroad': 2427191, 'new_recovered': 0, 'total_recovered': 2478781, 'new_death': 40, 'total_death': 11224, 'case_foreign': 0, 'case_prison': 0, 'case_walkin': 2616, 'case_new_prev': 2292, 'case_new_diff': 324, 'death_new_prev': 40, 'death_new_diff': 0, 'update_date': '2023-03-17 19:32:23'}, {'year': 2022, 'weeknum': 43, 'new_case': 2551, 'total_case': 2446626, 'new_case_excludeabroad': 2551, 'total_case_excludeabroad': 2429742, 'new_recovered': 0, 'total_recovered': 2478781, 'new_death': 33, 'total_death': 11257, 'case_foreign': 0, 'case_prison': 0, 'case_walkin': 2548, 'case_new_prev': 2574, 'case_new_diff': -23, 'death_new_prev': 28, 'death_new_diff': 5, 'update_date': '2023-03-17 19:32:23'}, {'year': 2022, 'weeknum': 44, 'new_case': 25146, 'total_case': 2471772, 'new_case_excludeabroad': 25059, 'total_case_excludeabroad': 2454801, 'new_recovered': 0, 'total_recovered': 2478781, 'new_death': 40, 'total_death': 11297, 'case_foreign': 87, 'case_prison': 18, 'case_walkin': 24736, 'case_new_prev': 25178, 'case_new_diff': -32, 'death_new_prev': 36, 'death_new_diff': 4, 'update_date': '2023-03-17 19:32:23'}, {'year': 2022, 'weeknum': 45, 'new_case': 3166, 'total_case': 2474938, 'new_case_excludeabroad': 3166, 'total_case_excludeabroad': 2457967, 'new_recovered': 0, 'total_recovered': 2478781, 'new_death': 42, 'total_death': 11339, 'case_foreign': 0, 'case_prison': 1, 'case_walkin': 3165, 'case_new_prev': 3011, 'case_new_diff': 155, 'death_new_prev': 42, 'death_new_diff': 0, 'update_date': '2023-03-17 19:32:23'}, {'year': 2022, 'weeknum': 46, 'new_case': 3957, 'total_case': 2478895, 'new_case_excludeabroad': 3957, 'total_case_excludeabroad': 2461924, 'new_recovered': 0, 'total_recovered': 2478781, 'new_death': 69, 'total_death': 11408, 'case_foreign': 0, 'case_prison': 0, 'case_walkin': 3957, 'case_new_prev': 3825, 'case_new_diff': 132, 'death_new_prev': 66, 'death_new_diff': 3, 'update_date': '2023-03-17 19:32:23'}, {'year': 2022, 'weeknum': 47, 'new_case': 4914, 'total_case': 2483809, 'new_case_excludeabroad': 4914, 'total_case_excludeabroad': 2466838, 'new_recovered': 0, 'total_recovered': 2478781, 'new_death': 74, 'total_death': 11482, 'case_foreign': 0, 'case_prison': 0, 'case_walkin': 4914, 'case_new_prev': 4857, 'case_new_diff': 57, 'death_new_prev': 71, 'death_new_diff': 3, 'update_date': '2023-03-17 19:32:23'}, {'year': 2022, 'weeknum': 48, 'new_case': 4284, 'total_case': 2488093, 'new_case_excludeabroad': 4284, 'total_case_excludeabroad': 2471122, 'new_recovered': 0, 'total_recovered': 2478781, 'new_death': 105, 'total_death': 11587, 'case_foreign': 0, 'case_prison': 0, 'case_walkin': 4284, 'case_new_prev': 4540, 'case_new_diff': -256, 'death_new_prev': 110, 'death_new_diff': -5, 'update_date': '2023-03-17 19:32:23'}, {'year': 2022, 'weeknum': 49, 'new_case': 3961, 'total_case': 2492054, 'new_case_excludeabroad': 3961, 'total_case_excludeabroad': 2475083, 'new_recovered': 0, 'total_recovered': 2478781, 'new_death': 107, 'total_death': 11694, 'case_foreign': 0, 'case_prison': 0, 'case_walkin': 3961, 'case_new_prev': 3824, 'case_new_diff': 137, 'death_new_prev': 97, 'death_new_diff': 10, 'update_date': '2023-03-17 19:32:23'}, {'year': 2022, 'weeknum': 50, 'new_case': 3419, 'total_case': 2495473, 'new_case_excludeabroad': 3419, 'total_case_excludeabroad': 2478502, 'new_recovered': 0, 'total_recovered': 2478781, 'new_death': 113, 'total_death': 11807, 'case_foreign': 0, 'case_prison': 1, 'case_walkin': 3418, 'case_new_prev': 3625, 'case_new_diff': -206, 'death_new_prev': 115, 'death_new_diff': -2, 'update_date': '2023-03-17 19:32:23'}, {'year': 2022, 'weeknum': 51, 'new_case': 2900, 'total_case': 2498373, 'new_case_excludeabroad': 2900, 'total_case_excludeabroad': 2481402, 'new_recovered': 0, 'total_recovered': 2478781, 'new_death': 89, 'total_death': 11896, 'case_foreign': 0, 'case_prison': 0, 'case_walkin': 2900, 'case_new_prev': 2956, 'case_new_diff': -56, 'death_new_prev': 100, 'death_new_diff': -11, 'update_date': '2023-03-17 19:32:23'}, {'year': 2022, 'weeknum': 52, 'new_case': 2111, 'total_case': 2500484, 'new_case_excludeabroad': 2111, 'total_case_excludeabroad': 2483513, 'new_recovered': 0, 'total_recovered': 2478781, 'new_death': 75, 'total_death': 11971, 'case_foreign': 0, 'case_prison': 0, 'case_walkin': 2111, 'case_new_prev': 2212, 'case_new_diff': -101, 'death_new_prev': 63, 'death_new_diff': 12, 'update_date': '2023-03-17 19:32:23'}]\n"
     ]
    }
   ],
   "source": [
    "overall = overall_API5.text\n",
    "\n",
    "overall = json.loads(overall)\n",
    "print(overall)"
   ]
  },
  {
   "cell_type": "code",
   "execution_count": 9,
   "metadata": {},
   "outputs": [
    {
     "data": {
      "text/plain": [
       "<sqlite3.Cursor at 0x7f8489aad110>"
      ]
     },
     "execution_count": 9,
     "metadata": {},
     "output_type": "execute_result"
    }
   ],
   "source": [
    "import sqlite3\n",
    "\n",
    "# Create a connection to the database\n",
    "conn = sqlite3.connect('covid.db')\n",
    "\n",
    "# Create a cursor object\n",
    "cursor = conn.cursor()\n",
    "\n",
    "# Create the table\n",
    "cursor.execute('''CREATE TABLE overall_data (\n",
    "                    year INTEGER,\n",
    "                    weeknum INTEGER,\n",
    "                    new_case INTEGER,\n",
    "                    total_case INTEGER,\n",
    "                    new_case_excludeabroad INTEGER,\n",
    "                    total_case_excludeabroad INTEGER,\n",
    "                    new_recovered INTEGER,\n",
    "                    total_recovered INTEGER,\n",
    "                    new_death INTEGER,\n",
    "                    total_death INTEGER,\n",
    "                    case_foreign INTEGER,\n",
    "                    case_prison INTEGER,\n",
    "                    case_walkin INTEGER,\n",
    "                    case_new_prev INTEGER,\n",
    "                    case_new_diff INTEGER,\n",
    "                    death_new_prev INTEGER,\n",
    "                    death_new_diff INTEGER,\n",
    "                    update_date TEXT)''')"
   ]
  },
  {
   "cell_type": "code",
   "execution_count": 10,
   "metadata": {},
   "outputs": [],
   "source": [
    "for row in overall:\n",
    "    cursor.execute('''INSERT INTO overall_data (\n",
    "                        year,\n",
    "                        weeknum,\n",
    "                        new_case,\n",
    "                        total_case,\n",
    "                        new_case_excludeabroad,\n",
    "                        total_case_excludeabroad,\n",
    "                        new_recovered,\n",
    "                        total_recovered,\n",
    "                        new_death,\n",
    "                        total_death,\n",
    "                        case_foreign,\n",
    "                        case_prison,\n",
    "                        case_walkin,\n",
    "                        case_new_prev,\n",
    "                        case_new_diff,\n",
    "                        death_new_prev,\n",
    "                        death_new_diff,\n",
    "                        update_date) \n",
    "                    VALUES (?, ?, ?, ?, ?, ?, ?, ?, ?, ?, ?, ?, ?, ?, ?, ?, ?, ?)''',\n",
    "                    (row['year'], row['weeknum'], row['new_case'], row['total_case'], row['new_case_excludeabroad'], row['total_case_excludeabroad'], row['new_recovered'], row['total_recovered'], row['new_death'], row['total_death'], row['case_foreign'], row['case_prison'], row['case_walkin'], row['case_new_prev'], row['case_new_diff'], row['death_new_prev'], row['death_new_diff'], row['update_date']))\n",
    "\n",
    "# Commit the changes and clalose the connection\n",
    "conn.commit()\n",
    "conn.close()"
   ]
  },
  {
   "cell_type": "code",
   "execution_count": 13,
   "metadata": {},
   "outputs": [
    {
     "data": {
      "text/plain": [
       "[(2500484, 11971, 2478781)]"
      ]
     },
     "execution_count": 13,
     "metadata": {},
     "output_type": "execute_result"
    }
   ],
   "source": [
    "conn = sqlite3.connect('covid.db')\n",
    "conn.execute('''select  total_case,total_death,total_recovered  from overall_data where year = 2022 and weeknum=52''').fetchall()"
   ]
  },
  {
   "cell_type": "code",
   "execution_count": null,
   "metadata": {},
   "outputs": [],
   "source": []
  }
 ],
 "metadata": {
  "kernelspec": {
   "display_name": "Python 3",
   "language": "python",
   "name": "python3"
  },
  "language_info": {
   "codemirror_mode": {
    "name": "ipython",
    "version": 3
   },
   "file_extension": ".py",
   "mimetype": "text/x-python",
   "name": "python",
   "nbconvert_exporter": "python",
   "pygments_lexer": "ipython3",
   "version": "3.8.16"
  },
  "orig_nbformat": 4
 },
 "nbformat": 4,
 "nbformat_minor": 2
}
